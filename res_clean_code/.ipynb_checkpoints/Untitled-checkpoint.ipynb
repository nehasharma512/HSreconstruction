{
 "cells": [
  {
   "cell_type": "code",
   "execution_count": 1,
   "metadata": {},
   "outputs": [],
   "source": [
    "from __future__ import division\n",
    "\n",
    "import torch\n",
    "import torch.nn as nn\n",
    "\n",
    "import os         \n",
    "import numpy as np \n",
    "from scipy.ndimage import imread\n",
    "                                                            \n",
    "from resblock_256 import resblock,conv_relu_res_relu_block\n",
    "from utils import save_matv73,reconstruction"
   ]
  },
  {
   "cell_type": "code",
   "execution_count": 4,
   "metadata": {},
   "outputs": [
    {
     "data": {
      "text/plain": [
       "DataParallel(\n",
       "  (module): resblock(\n",
       "    (input_conv): Conv2d (3, 256, kernel_size=(3, 3), stride=(1, 1), padding=(1, 1))\n",
       "    (conv_seq): Sequential(\n",
       "      (0): conv_relu_res_relu_block(\n",
       "        (conv1): Conv2d (256, 256, kernel_size=(3, 3), stride=(1, 1), padding=(1, 1))\n",
       "        (relu1): ReLU(inplace)\n",
       "        (conv2): Conv2d (256, 256, kernel_size=(3, 3), stride=(1, 1), padding=(1, 1))\n",
       "        (relu2): ReLU(inplace)\n",
       "      )\n",
       "      (1): conv_relu_res_relu_block(\n",
       "        (conv1): Conv2d (256, 256, kernel_size=(3, 3), stride=(1, 1), padding=(1, 1))\n",
       "        (relu1): ReLU(inplace)\n",
       "        (conv2): Conv2d (256, 256, kernel_size=(3, 3), stride=(1, 1), padding=(1, 1))\n",
       "        (relu2): ReLU(inplace)\n",
       "      )\n",
       "      (2): conv_relu_res_relu_block(\n",
       "        (conv1): Conv2d (256, 256, kernel_size=(3, 3), stride=(1, 1), padding=(1, 1))\n",
       "        (relu1): ReLU(inplace)\n",
       "        (conv2): Conv2d (256, 256, kernel_size=(3, 3), stride=(1, 1), padding=(1, 1))\n",
       "        (relu2): ReLU(inplace)\n",
       "      )\n",
       "      (3): conv_relu_res_relu_block(\n",
       "        (conv1): Conv2d (256, 256, kernel_size=(3, 3), stride=(1, 1), padding=(1, 1))\n",
       "        (relu1): ReLU(inplace)\n",
       "        (conv2): Conv2d (256, 256, kernel_size=(3, 3), stride=(1, 1), padding=(1, 1))\n",
       "        (relu2): ReLU(inplace)\n",
       "      )\n",
       "      (4): conv_relu_res_relu_block(\n",
       "        (conv1): Conv2d (256, 256, kernel_size=(3, 3), stride=(1, 1), padding=(1, 1))\n",
       "        (relu1): ReLU(inplace)\n",
       "        (conv2): Conv2d (256, 256, kernel_size=(3, 3), stride=(1, 1), padding=(1, 1))\n",
       "        (relu2): ReLU(inplace)\n",
       "      )\n",
       "      (5): conv_relu_res_relu_block(\n",
       "        (conv1): Conv2d (256, 256, kernel_size=(3, 3), stride=(1, 1), padding=(1, 1))\n",
       "        (relu1): ReLU(inplace)\n",
       "        (conv2): Conv2d (256, 256, kernel_size=(3, 3), stride=(1, 1), padding=(1, 1))\n",
       "        (relu2): ReLU(inplace)\n",
       "      )\n",
       "      (6): conv_relu_res_relu_block(\n",
       "        (conv1): Conv2d (256, 256, kernel_size=(3, 3), stride=(1, 1), padding=(1, 1))\n",
       "        (relu1): ReLU(inplace)\n",
       "        (conv2): Conv2d (256, 256, kernel_size=(3, 3), stride=(1, 1), padding=(1, 1))\n",
       "        (relu2): ReLU(inplace)\n",
       "      )\n",
       "      (7): conv_relu_res_relu_block(\n",
       "        (conv1): Conv2d (256, 256, kernel_size=(3, 3), stride=(1, 1), padding=(1, 1))\n",
       "        (relu1): ReLU(inplace)\n",
       "        (conv2): Conv2d (256, 256, kernel_size=(3, 3), stride=(1, 1), padding=(1, 1))\n",
       "        (relu2): ReLU(inplace)\n",
       "      )\n",
       "      (8): conv_relu_res_relu_block(\n",
       "        (conv1): Conv2d (256, 256, kernel_size=(3, 3), stride=(1, 1), padding=(1, 1))\n",
       "        (relu1): ReLU(inplace)\n",
       "        (conv2): Conv2d (256, 256, kernel_size=(3, 3), stride=(1, 1), padding=(1, 1))\n",
       "        (relu2): ReLU(inplace)\n",
       "      )\n",
       "    )\n",
       "    (conv): Conv2d (256, 256, kernel_size=(3, 3), stride=(1, 1), padding=(1, 1))\n",
       "    (relu): ReLU(inplace)\n",
       "    (output_conv): Conv2d (256, 31, kernel_size=(3, 3), stride=(1, 1), padding=(1, 1))\n",
       "  )\n",
       ")"
      ]
     },
     "execution_count": 4,
     "metadata": {},
     "output_type": "execute_result"
    }
   ],
   "source": [
    "model_path = './models/res_n9_256_cleanpng.pkl'\n",
    "img_path = './test_imgs/'\n",
    "result_path = './test_results/'\n",
    "var_name = 'rad'\n",
    "  \n",
    "save_point = torch.load(model_path)\n",
    "model_param = save_point['state_dict']\n",
    "model = resblock(conv_relu_res_relu_block,9,3,31)\n",
    "model = nn.DataParallel(model)\n",
    "model.load_state_dict(model_param)\n",
    "  \n",
    "model = model.cuda()\n",
    "model.eval()"
   ]
  },
  {
   "cell_type": "code",
   "execution_count": null,
   "metadata": {},
   "outputs": [],
   "source": [
    "for img_name in sorted(os.listdir(img_path)):\n",
    "    print img_name\n",
    "    img_path_name = os.path.join(img_path, img_name)\n",
    "    rgb = imread(img_path_name)\n",
    "    rgb = rgb/255\n",
    "    rgb = np.expand_dims(np.transpose(rgb,[2,1,0]), axis=0).copy()\n",
    "   \n",
    "    img_res1 = reconstruction(rgb,model)\n",
    "    img_res2 = np.flip(reconstruction(np.flip(rgb, 2).copy(),model),1)\n",
    "    img_res3 = (img_res1+img_res2)/2\n",
    " \n",
    "    mat_name = img_name[:-10] + '.mat' \n",
    "    mat_dir= os.path.join(result_path, mat_name)\n",
    "      \n",
    "    save_matv73(mat_dir, var_name,img_res3)\n"
   ]
  },
  {
   "cell_type": "code",
   "execution_count": null,
   "metadata": {},
   "outputs": [],
   "source": []
  },
  {
   "cell_type": "code",
   "execution_count": null,
   "metadata": {},
   "outputs": [],
   "source": []
  }
 ],
 "metadata": {
  "kernelspec": {
   "display_name": "Python [conda env:anaconda2]",
   "language": "python",
   "name": "conda-env-anaconda2-py"
  },
  "language_info": {
   "codemirror_mode": {
    "name": "ipython",
    "version": 2
   },
   "file_extension": ".py",
   "mimetype": "text/x-python",
   "name": "python",
   "nbconvert_exporter": "python",
   "pygments_lexer": "ipython2",
   "version": "2.7.14"
  }
 },
 "nbformat": 4,
 "nbformat_minor": 2
}
